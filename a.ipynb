{
 "cells": [
  {
   "cell_type": "code",
   "execution_count": 29,
   "id": "d95e35f3",
   "metadata": {},
   "outputs": [],
   "source": [
    "import pandas as pd\n",
    "import boolean_encoding"
   ]
  },
  {
   "cell_type": "code",
   "execution_count": 30,
   "id": "6204dbc6",
   "metadata": {},
   "outputs": [],
   "source": [
    "df=pd.read_csv('Housing.csv')"
   ]
  },
  {
   "cell_type": "code",
   "execution_count": 31,
   "id": "9133f031",
   "metadata": {},
   "outputs": [],
   "source": [
    "for cols in df.columns:\n",
    "    if pd.api.types.is_numeric_dtype(df[cols]):\n",
    "        continue\n",
    "    mapping, encoded=boolean_encoding.boolean_encoder(df[cols])\n",
    "    df[cols]=encoded"
   ]
  },
  {
   "cell_type": "code",
   "execution_count": 33,
   "id": "92d3588d",
   "metadata": {},
   "outputs": [
    {
     "data": {
      "text/plain": [
       "Index(['price', 'area', 'bedrooms', 'bathrooms', 'stories', 'mainroad',\n",
       "       'guestroom', 'basement', 'hotwaterheating', 'airconditioning',\n",
       "       'parking', 'prefarea', 'furnishingstatus', 'price_per_sqft',\n",
       "       'total_rooms', 'rooms_per_sqft', 'stories_per_area', 'bed_bath',\n",
       "       'area_ac', 'parking_area', 'large_area', 'guestroom_multi_story',\n",
       "       'premium_location'],\n",
       "      dtype='object')"
      ]
     },
     "execution_count": 33,
     "metadata": {},
     "output_type": "execute_result"
    }
   ],
   "source": [
    "df.columns"
   ]
  },
  {
   "cell_type": "code",
   "execution_count": null,
   "id": "51789a9a",
   "metadata": {},
   "outputs": [],
   "source": [
    "df['price_per_sqft']=df['price']/df['area']\n",
    "df['total_rooms']=df['bedrooms']+df['bathrooms']+df['guestroom']\n",
    "df['rooms_per_sqft']=df['total_rooms']/df['area']\n",
    "df['stories_per_area']=df['stories']/df['area']\n",
    "df['bed_bath']=df['bedrooms'] * df['bathrooms']\n",
    "df['area_ac']=df['area']*df['airconditioning']\n",
    "df['parking_area']=df['parking']*df['area']\n",
    "df['large_area']=df['area']>df['area'].median()\n",
    "df['guestroom_multi_story']=df['guestroom'] & (df['stories']>1)\n",
    "df['premium_location']=df['mainroad'] & df['prefarea']\n",
    "df['area_furnishing'] = df['area'] * df['furnishingstatus']\n",
    "df['bedrooms_per_area'] = df['bedrooms']/df['area']\n",
    "df['stories_per_area'] = df['stories']/df['area']\n",
    "df['parking_per_area'] = df['parking']/df['area']"
   ]
  },
  {
   "cell_type": "code",
   "execution_count": 37,
   "id": "0341a8cd",
   "metadata": {},
   "outputs": [
    {
     "data": {
      "text/plain": [
       "price                    1.000000\n",
       "total_rooms              0.547901\n",
       "area                     0.535997\n",
       "bed_bath                 0.535868\n",
       "area_ac                  0.533374\n",
       "large_area               0.521514\n",
       "bathrooms                0.517545\n",
       "parking_area             0.463733\n",
       "airconditioning          0.452954\n",
       "stories                  0.420712\n",
       "price_per_sqft           0.392921\n",
       "parking                  0.384394\n",
       "bedrooms                 0.366494\n",
       "premium_location         0.340115\n",
       "prefarea                 0.329777\n",
       "mainroad                 0.296898\n",
       "guestroom                0.255517\n",
       "guestroom_multi_story    0.252144\n",
       "parking_per_area         0.200078\n",
       "basement                 0.187057\n",
       "hotwaterheating          0.093073\n",
       "stories_per_area        -0.074911\n",
       "rooms_per_sqft          -0.212662\n",
       "bedrooms_per_area       -0.291574\n",
       "furnishingstatus              NaN\n",
       "area_furnishing               NaN\n",
       "Name: price, dtype: float64"
      ]
     },
     "execution_count": 37,
     "metadata": {},
     "output_type": "execute_result"
    }
   ],
   "source": [
    "price_correlation=df.corr()['price'].sort_values(ascending=False)\n",
    "price_correlation"
   ]
  }
 ],
 "metadata": {
  "kernelspec": {
   "display_name": "venv",
   "language": "python",
   "name": "python3"
  },
  "language_info": {
   "codemirror_mode": {
    "name": "ipython",
    "version": 3
   },
   "file_extension": ".py",
   "mimetype": "text/x-python",
   "name": "python",
   "nbconvert_exporter": "python",
   "pygments_lexer": "ipython3",
   "version": "3.12.3"
  }
 },
 "nbformat": 4,
 "nbformat_minor": 5
}
